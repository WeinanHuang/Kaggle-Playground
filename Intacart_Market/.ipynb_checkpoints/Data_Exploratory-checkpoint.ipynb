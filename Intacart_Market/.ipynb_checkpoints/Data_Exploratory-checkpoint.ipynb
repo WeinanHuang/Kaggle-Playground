{
 "cells": [
  {
   "cell_type": "code",
   "execution_count": 1,
   "metadata": {
    "collapsed": false
   },
   "outputs": [],
   "source": [
    "import numpy as np\n",
    "import pandas as pd\n",
    "import matplotlib.pyplot as plt\n",
    "import seaborn as sns\n",
    "import collections\n",
    "%matplotlib inline"
   ]
  },
  {
   "cell_type": "code",
   "execution_count": 2,
   "metadata": {
    "collapsed": false
   },
   "outputs": [],
   "source": [
    "wd = \"~/Desktop/kaggle/Intacart\"\n",
    "df_order_products_train = pd.read_csv(\"{wd}/Data/order_products__train.csv\".format(wd = wd))\n",
    "df_order_products_prior = pd.read_csv(\"{wd}/Data/order_products__prior.csv\".format(wd = wd))\n",
    "df_orders = pd.read_csv(\"{wd}/Data/orders.csv\".format(wd = wd))\n",
    "df_products = pd.read_csv(\"{wd}/Data/products.csv\".format(wd = wd))\n",
    "df_aisles = pd.read_csv(\"{wd}/Data/aisles.csv\".format(wd = wd))\n",
    "df_departments = pd.read_csv(\"{wd}/Data/departments.csv\".format(wd = wd))"
   ]
  },
  {
   "cell_type": "code",
   "execution_count": 13,
   "metadata": {
    "collapsed": true
   },
   "outputs": [],
   "source": [
    "pd.set_option('max_colwidth', 20)"
   ]
  },
  {
   "cell_type": "markdown",
   "metadata": {},
   "source": [
    "## df_aisles\n",
    "There are 134 aisles in total."
   ]
  },
  {
   "cell_type": "code",
   "execution_count": 9,
   "metadata": {
    "collapsed": false
   },
   "outputs": [
    {
     "name": "stdout",
     "output_type": "stream",
     "text": [
      "   aisle_id                       aisle\n",
      "0         1       prepared soups salads\n",
      "1         2           specialty cheeses\n",
      "2         3         energy granola bars\n",
      "3         4               instant foods\n",
      "4         5  marinades meat preparation\n",
      "5         6                       other\n",
      "6         7               packaged meat\n",
      "7         8             bakery desserts\n",
      "8         9                 pasta sauce\n",
      "9        10            kitchen supplies\n",
      "<class 'pandas.core.frame.DataFrame'>\n",
      "RangeIndex: 134 entries, 0 to 133\n",
      "Data columns (total 2 columns):\n",
      "aisle_id    134 non-null int64\n",
      "aisle       134 non-null object\n",
      "dtypes: int64(1), object(1)\n",
      "memory usage: 2.2+ KB\n"
     ]
    }
   ],
   "source": [
    "print df_aisles.head(n=10)\n",
    "df_aisles.info()"
   ]
  },
  {
   "cell_type": "markdown",
   "metadata": {},
   "source": [
    "## df_products\n",
    "There are 49,688 products in total."
   ]
  },
  {
   "cell_type": "code",
   "execution_count": 14,
   "metadata": {
    "collapsed": false
   },
   "outputs": [
    {
     "name": "stdout",
     "output_type": "stream",
     "text": [
      "   product_id         product_name  aisle_id  department_id\n",
      "0           1  Chocolate Sandwi...        61             19\n",
      "1           2     All-Seasons Salt       104             13\n",
      "2           3  Robust Golden Un...        94              7\n",
      "3           4  Smart Ones Class...        38              1\n",
      "4           5  Green Chile Anyt...         5             13\n",
      "5           6         Dry Nose Oil        11             11\n",
      "6           7  Pure Coconut Wat...        98              7\n",
      "7           8  Cut Russet Potat...       116              1\n",
      "8           9  Light Strawberry...       120             16\n",
      "9          10  Sparkling Orange...       115              7\n",
      "<class 'pandas.core.frame.DataFrame'>\n",
      "RangeIndex: 49688 entries, 0 to 49687\n",
      "Data columns (total 4 columns):\n",
      "product_id       49688 non-null int64\n",
      "product_name     49688 non-null object\n",
      "aisle_id         49688 non-null int64\n",
      "department_id    49688 non-null int64\n",
      "dtypes: int64(3), object(1)\n",
      "memory usage: 1.5+ MB\n",
      "None\n"
     ]
    }
   ],
   "source": [
    "print df_products.head(n = 10)\n",
    "print df_products.info()"
   ]
  },
  {
   "cell_type": "markdown",
   "metadata": {},
   "source": [
    "## df_deparments\n",
    "There are 21 departments in total."
   ]
  },
  {
   "cell_type": "code",
   "execution_count": 16,
   "metadata": {
    "collapsed": false,
    "scrolled": true
   },
   "outputs": [
    {
     "name": "stdout",
     "output_type": "stream",
     "text": [
      "   department_id       department\n",
      "0              1           frozen\n",
      "1              2            other\n",
      "2              3           bakery\n",
      "3              4          produce\n",
      "4              5          alcohol\n",
      "5              6    international\n",
      "6              7        beverages\n",
      "7              8             pets\n",
      "8              9  dry goods pasta\n",
      "9             10             bulk\n",
      "<class 'pandas.core.frame.DataFrame'>\n",
      "RangeIndex: 21 entries, 0 to 20\n",
      "Data columns (total 2 columns):\n",
      "department_id    21 non-null int64\n",
      "department       21 non-null object\n",
      "dtypes: int64(1), object(1)\n",
      "memory usage: 408.0+ bytes\n",
      "None\n"
     ]
    }
   ],
   "source": [
    "print df_departments.head(n=10)\n",
    "print df_departments.info()"
   ]
  },
  {
   "cell_type": "markdown",
   "metadata": {},
   "source": [
    "### Department and Aisle count"
   ]
  },
  {
   "cell_type": "code",
   "execution_count": 146,
   "metadata": {
    "collapsed": false
   },
   "outputs": [
    {
     "data": {
      "text/html": [
       "<div>\n",
       "<table border=\"1\" class=\"dataframe\">\n",
       "  <thead>\n",
       "    <tr style=\"text-align: right;\">\n",
       "      <th></th>\n",
       "      <th>department</th>\n",
       "      <th>aisle_count</th>\n",
       "    </tr>\n",
       "    <tr>\n",
       "      <th>department_id</th>\n",
       "      <th></th>\n",
       "      <th></th>\n",
       "    </tr>\n",
       "  </thead>\n",
       "  <tbody>\n",
       "    <tr>\n",
       "      <th>1</th>\n",
       "      <td>frozen</td>\n",
       "      <td>11</td>\n",
       "    </tr>\n",
       "    <tr>\n",
       "      <th>2</th>\n",
       "      <td>other</td>\n",
       "      <td>1</td>\n",
       "    </tr>\n",
       "    <tr>\n",
       "      <th>3</th>\n",
       "      <td>bakery</td>\n",
       "      <td>5</td>\n",
       "    </tr>\n",
       "    <tr>\n",
       "      <th>4</th>\n",
       "      <td>produce</td>\n",
       "      <td>5</td>\n",
       "    </tr>\n",
       "    <tr>\n",
       "      <th>5</th>\n",
       "      <td>alcohol</td>\n",
       "      <td>5</td>\n",
       "    </tr>\n",
       "    <tr>\n",
       "      <th>6</th>\n",
       "      <td>international</td>\n",
       "      <td>4</td>\n",
       "    </tr>\n",
       "    <tr>\n",
       "      <th>7</th>\n",
       "      <td>beverages</td>\n",
       "      <td>8</td>\n",
       "    </tr>\n",
       "    <tr>\n",
       "      <th>8</th>\n",
       "      <td>pets</td>\n",
       "      <td>2</td>\n",
       "    </tr>\n",
       "    <tr>\n",
       "      <th>9</th>\n",
       "      <td>dry goods pasta</td>\n",
       "      <td>5</td>\n",
       "    </tr>\n",
       "    <tr>\n",
       "      <th>10</th>\n",
       "      <td>bulk</td>\n",
       "      <td>2</td>\n",
       "    </tr>\n",
       "    <tr>\n",
       "      <th>11</th>\n",
       "      <td>personal care</td>\n",
       "      <td>17</td>\n",
       "    </tr>\n",
       "    <tr>\n",
       "      <th>12</th>\n",
       "      <td>meat seafood</td>\n",
       "      <td>7</td>\n",
       "    </tr>\n",
       "    <tr>\n",
       "      <th>13</th>\n",
       "      <td>pantry</td>\n",
       "      <td>12</td>\n",
       "    </tr>\n",
       "    <tr>\n",
       "      <th>14</th>\n",
       "      <td>breakfast</td>\n",
       "      <td>4</td>\n",
       "    </tr>\n",
       "    <tr>\n",
       "      <th>15</th>\n",
       "      <td>canned goods</td>\n",
       "      <td>5</td>\n",
       "    </tr>\n",
       "    <tr>\n",
       "      <th>16</th>\n",
       "      <td>dairy eggs</td>\n",
       "      <td>10</td>\n",
       "    </tr>\n",
       "    <tr>\n",
       "      <th>17</th>\n",
       "      <td>household</td>\n",
       "      <td>10</td>\n",
       "    </tr>\n",
       "    <tr>\n",
       "      <th>18</th>\n",
       "      <td>babies</td>\n",
       "      <td>4</td>\n",
       "    </tr>\n",
       "    <tr>\n",
       "      <th>19</th>\n",
       "      <td>snacks</td>\n",
       "      <td>11</td>\n",
       "    </tr>\n",
       "    <tr>\n",
       "      <th>20</th>\n",
       "      <td>deli</td>\n",
       "      <td>5</td>\n",
       "    </tr>\n",
       "    <tr>\n",
       "      <th>21</th>\n",
       "      <td>missing</td>\n",
       "      <td>1</td>\n",
       "    </tr>\n",
       "  </tbody>\n",
       "</table>\n",
       "</div>"
      ],
      "text/plain": [
       "                    department  aisle_count\n",
       "department_id                              \n",
       "1                       frozen           11\n",
       "2                        other            1\n",
       "3                       bakery            5\n",
       "4                      produce            5\n",
       "5                      alcohol            5\n",
       "6                international            4\n",
       "7                    beverages            8\n",
       "8                         pets            2\n",
       "9              dry goods pasta            5\n",
       "10                        bulk            2\n",
       "11               personal care           17\n",
       "12                meat seafood            7\n",
       "13                      pantry           12\n",
       "14                   breakfast            4\n",
       "15                canned goods            5\n",
       "16                  dairy eggs           10\n",
       "17                   household           10\n",
       "18                      babies            4\n",
       "19                      snacks           11\n",
       "20                        deli            5\n",
       "21                     missing            1"
      ]
     },
     "execution_count": 146,
     "metadata": {},
     "output_type": "execute_result"
    }
   ],
   "source": [
    "df_aisle_department = df_products.loc[:,['aisle_id','department_id']].drop_duplicates()\n",
    "df_aisle_department = df_departments.merge(df_aisle_department, how='left', on = 'department_id')\n",
    "s = df_aisle_department.groupby('department_id').size()\n",
    "df_department_cnt = pd.DataFrame({'aisle_count':s.values}).set_index(s.index)\n",
    "df_department_cnt.merge(df_departments.set_index('department_id'), left_index= True, right_index=True)[['department', 'aisle_count']]"
   ]
  },
  {
   "cell_type": "markdown",
   "metadata": {},
   "source": [
    "## df_order_products_train\n",
    "There are 1,384,617 entries training data set.\n",
    "\n",
    "There are 131,209 unique orders in training data set."
   ]
  },
  {
   "cell_type": "code",
   "execution_count": 153,
   "metadata": {
    "collapsed": false
   },
   "outputs": [
    {
     "name": "stdout",
     "output_type": "stream",
     "text": [
      "   order_id  product_id  add_to_cart_order  reordered\n",
      "0         1       49302                  1          1\n",
      "1         1       11109                  2          1\n",
      "2         1       10246                  3          0\n",
      "3         1       49683                  4          0\n",
      "4         1       43633                  5          1\n",
      "5         1       13176                  6          0\n",
      "6         1       47209                  7          0\n",
      "7         1       22035                  8          1\n",
      "8        36       39612                  1          0\n",
      "9        36       19660                  2          1\n",
      "<class 'pandas.core.frame.DataFrame'>\n",
      "RangeIndex: 1384617 entries, 0 to 1384616\n",
      "Data columns (total 4 columns):\n",
      "order_id             1384617 non-null int64\n",
      "product_id           1384617 non-null int64\n",
      "add_to_cart_order    1384617 non-null int64\n",
      "reordered            1384617 non-null int64\n",
      "dtypes: int64(4)\n",
      "memory usage: 42.3 MB\n",
      "None\n",
      "\n",
      "Number of unique orders in training set: 131209 \n",
      "\n"
     ]
    }
   ],
   "source": [
    "print df_order_products_train.head(n=10)\n",
    "print df_order_products_train.info()\n",
    "\n",
    "n_train_orders = df_order_products_train.groupby('order_id').size().shape[0]\n",
    "print '\\nNumber of unique orders in training set: {n_order} \\n'.format(n_order = n_train_orders)"
   ]
  },
  {
   "cell_type": "code",
   "execution_count": 180,
   "metadata": {
    "collapsed": false
   },
   "outputs": [
    {
     "data": {
      "image/png": "[encoded data removed]",
      "text/plain": [
       "<matplotlib.figure.Figure at 0x11c0da550>"
      ]
     },
     "metadata": {},
     "output_type": "display_data"
    }
   ],
   "source": [
    "train_order_size = df_order_products_train.groupby('order_id').size().value_counts()\n",
    "\n",
    "plt.figure(figsize=(12,8))\n",
    "sns.barplot(train_order_size.index, train_order_size.values)\n",
    "plt.title('Order Size Distribution in training set', fontsize = 25)\n",
    "plt.xlabel('Number of Products in Order', fontsize = 20)\n",
    "plt.ylabel('Orders Count', fontsize = 20)\n",
    "plt.xticks(rotation = 'vertical')\n",
    "plt.show()"
   ]
  },
  {
   "cell_type": "markdown",
   "metadata": {},
   "source": [
    "## df_oder_products_prior\n",
    "There are 32,434,489 entries in prior data set.\n",
    "\n",
    "There are 3,214,874 unique orders in prior data set."
   ]
  },
  {
   "cell_type": "code",
   "execution_count": 179,
   "metadata": {
    "collapsed": false
   },
   "outputs": [
    {
     "name": "stdout",
     "output_type": "stream",
     "text": [
      "   order_id  product_id  add_to_cart_order  reordered\n",
      "0         2       33120                  1          1\n",
      "1         2       28985                  2          1\n",
      "2         2        9327                  3          0\n",
      "3         2       45918                  4          1\n",
      "4         2       30035                  5          0\n",
      "5         2       17794                  6          1\n",
      "6         2       40141                  7          1\n",
      "7         2        1819                  8          1\n",
      "8         2       43668                  9          0\n",
      "9         3       33754                  1          1\n",
      "<class 'pandas.core.frame.DataFrame'>\n",
      "RangeIndex: 32434489 entries, 0 to 32434488\n",
      "Data columns (total 4 columns):\n",
      "order_id             int64\n",
      "product_id           int64\n",
      "add_to_cart_order    int64\n",
      "reordered            int64\n",
      "dtypes: int64(4)\n",
      "memory usage: 989.8 MB\n",
      "None\n",
      "\n",
      "Number of unique orders in prior set: 3214874 \n",
      "\n"
     ]
    }
   ],
   "source": [
    "print df_order_products_prior.head(n=10)\n",
    "print df_order_products_prior.info()\n",
    "\n",
    "n_prior_orders = df_order_products_prior.groupby('order_id').size().shape[0]\n",
    "print '\\nNumber of unique orders in prior set: {n_order} \\n'.format(n_order = n_prior_orders)"
   ]
  },
  {
   "cell_type": "markdown",
   "metadata": {},
   "source": [
    "## df_orders"
   ]
  },
  {
   "cell_type": "code",
   "execution_count": 11,
   "metadata": {
    "collapsed": false
   },
   "outputs": [
    {
     "name": "stdout",
     "output_type": "stream",
     "text": [
      "   order_id  user_id eval_set  order_number  order_dow  order_hour_of_day  \\\n",
      "0   2539329        1    prior             1          2                  8   \n",
      "1   2398795        1    prior             2          3                  7   \n",
      "2    473747        1    prior             3          3                 12   \n",
      "3   2254736        1    prior             4          4                  7   \n",
      "4    431534        1    prior             5          4                 15   \n",
      "5   3367565        1    prior             6          2                  7   \n",
      "6    550135        1    prior             7          1                  9   \n",
      "7   3108588        1    prior             8          1                 14   \n",
      "8   2295261        1    prior             9          1                 16   \n",
      "9   2550362        1    prior            10          4                  8   \n",
      "\n",
      "   days_since_prior_order  \n",
      "0                     NaN  \n",
      "1                    15.0  \n",
      "2                    21.0  \n",
      "3                    29.0  \n",
      "4                    28.0  \n",
      "5                    19.0  \n",
      "6                    20.0  \n",
      "7                    14.0  \n",
      "8                     0.0  \n",
      "9                    30.0  \n",
      "\n",
      "Shape of df_orders is: (3421083, 7).\n",
      "\n"
     ]
    }
   ],
   "source": [
    "print df_orders.head(n=10)\n",
    "print \"\\nShape of df_orders is: {shape}.\\n\".format(shape = df_orders.shape)"
   ]
  },
  {
   "cell_type": "markdown",
   "metadata": {},
   "source": [
    "## Test vs. Train vs. Previous\n",
    "We would like to know the size of training and previous order information vs. the size of testing order information."
   ]
  },
  {
   "cell_type": "code",
   "execution_count": 12,
   "metadata": {
    "collapsed": false
   },
   "outputs": [
    {
     "name": "stdout",
     "output_type": "stream",
     "text": [
      "Test orders count: 75000\n",
      "\n",
      "Train orders count: 131209\n",
      "\n",
      "Previous orders count: 3214874\n",
      "\n"
     ]
    }
   ],
   "source": [
    "print \"Test orders count: {num_test}\\n\".format \\\n",
    "      (num_test = df_orders[df_orders.eval_set == 'test'].shape[0])\n",
    "    \n",
    "print \"Train orders count: {num_train}\\n\".format \\\n",
    "      (num_train = df_orders[df_orders.eval_set == 'train'].shape[0])\n",
    "    \n",
    "print \"Previous orders count: {num_previous}\\n\".format \\\n",
    "      (num_previous = df_orders[df_orders.eval_set == 'prior'].shape[0])"
   ]
  },
  {
   "cell_type": "markdown",
   "metadata": {},
   "source": [
    "## Finding 1. Weekly-based recurrent orders\n",
    "\n",
    "1. First, there are noticable peaks on the 'days_since_prior_order' feature of df_orders when it equals 7, 14, 21, 28. \n",
    "2. Second, these Weekly-based recurrent orders tend to have reordered products much more than other recurrent orders. \n"
   ]
  },
  {
   "cell_type": "code",
   "execution_count": 30,
   "metadata": {
    "collapsed": false
   },
   "outputs": [
    {
     "data": {
      "image/png": "[encoded data removed]",
      "text/plain": [
       "<matplotlib.figure.Figure at 0x121fb9dd0>"
      ]
     },
     "metadata": {},
     "output_type": "display_data"
    }
   ],
   "source": [
    "# histgram of days_since_prior_order\n",
    "plt.hist(df_orders.days_since_prior_order.dropna(), bins = 31)\n",
    "plt.xticks([0,7,14,21,28,30], ['0', '7', '14', '21', '28', '30'])\n",
    "plt.show()"
   ]
  },
  {
   "cell_type": "code",
   "execution_count": 181,
   "metadata": {
    "collapsed": false
   },
   "outputs": [
    {
     "data": {
      "image/png": "[encoded data removed]",
      "text/plain": [
       "<matplotlib.figure.Figure at 0x12bd7dfd0>"
      ]
     },
     "metadata": {},
     "output_type": "display_data"
    }
   ],
   "source": [
    "count_userid_occurence = {}\n",
    "for phrase, count in collections.Counter(df_orders.user_id).items():\n",
    "    try: \n",
    "        count_userid_occurence[count] += 1\n",
    "    except:\n",
    "        count_userid_occurence[count] = 0\n",
    "\n",
    "plt.bar(count_userid_occurence.keys(), count_userid_occurence.values())\n",
    "plt.xlim([0,105])\n",
    "plt.show()"
   ]
  },
  {
   "cell_type": "code",
   "execution_count": 50,
   "metadata": {
    "collapsed": false
   },
   "outputs": [
    {
     "name": "stdout",
     "output_type": "stream",
     "text": [
      "Number of non-reordered products: 70058\n",
      "Number of reordered products: 138829\n",
      "Number of non-reordered products: 485735\n",
      "Number of reordered products: 689995\n"
     ]
    }
   ],
   "source": [
    "order_id_after_weeks = df_orders[(df_orders.eval_set == 'train') & \\\n",
    "                                 (df_orders.days_since_prior_order.isin([7,14,21,28])) \\\n",
    "                                ].order_id\n",
    "\n",
    "for item, counts in collections.Counter(\\\n",
    "                                     df_order_products_train[df_order_products_train.order_id.isin(order_id_after_weeks)]\\\n",
    "                                     .reordered\\\n",
    "                                     ).items():\n",
    "    if item:\n",
    "        print \"Number of reordered products: {num}\".format(num = counts)\n",
    "    else:\n",
    "        print \"Number of non-reordered products: {num}\".format(num = counts)\n",
    "        \n",
    "for item, counts in collections.Counter(\\\n",
    "                                     df_order_products_train[-(df_order_products_train.order_id.isin(order_id_after_weeks))]\\\n",
    "                                     .reordered\\\n",
    "                                     ).items():\n",
    "    if item:\n",
    "        print \"Number of reordered products: {num}\".format(num = counts)\n",
    "    else:\n",
    "        print \"Number of non-reordered products: {num}\".format(num = counts)"
   ]
  }
 ],
 "metadata": {
  "anaconda-cloud": {},
  "kernelspec": {
   "display_name": "Python [Root]",
   "language": "python",
   "name": "Python [Root]"
  },
  "language_info": {
   "codemirror_mode": {
    "name": "ipython",
    "version": 2
   },
   "file_extension": ".py",
   "mimetype": "text/x-python",
   "name": "python",
   "nbconvert_exporter": "python",
   "pygments_lexer": "ipython2",
   "version": "2.7.12"
  }
 },
 "nbformat": 4,
 "nbformat_minor": 0
}
