{
 "cells": [
  {
   "cell_type": "code",
   "execution_count": 1,
   "metadata": {
    "collapsed": false
   },
   "outputs": [],
   "source": [
    "import numpy as np\n",
    "import pandas as pd\n",
    "import matplotlib.pyplot as plt\n",
    "import seaborn as sns\n",
    "import collections\n",
    "%matplotlib inline"
   ]
  },
  {
   "cell_type": "code",
   "execution_count": 5,
   "metadata": {
    "collapsed": false
   },
   "outputs": [],
   "source": [
    "wd = \"~/Desktop/kaggle/Intacart\"\n",
    "df_order_products_train = pd.read_csv(\"{wd}/Data/order_products__train.csv\".format(wd = wd))\n",
    "df_order_products_prior = pd.read_csv(\"{wd}/Data/order_products__prior.csv\".format(wd = wd))\n",
    "df_orders = pd.read_csv(\"{wd}/Data/orders.csv\".format(wd = wd))\n",
    "df_products = pd.read_csv(\"{wd}/Data/products.csv\".format(wd = wd))\n",
    "df_aisles = pd.read_csv(\"{wd}/Data/aisles.csv\".format(wd = wd))\n",
    "df_departments = pd.read_csv(\"{wd}/Data/departments.csv\".format(wd = wd))"
   ]
  },
  {
   "cell_type": "markdown",
   "metadata": {},
   "source": [
    "## Head of df_aisles"
   ]
  },
  {
   "cell_type": "code",
   "execution_count": 6,
   "metadata": {
    "collapsed": false
   },
   "outputs": [
    {
     "name": "stdout",
     "output_type": "stream",
     "text": [
      "   aisle_id                       aisle\n",
      "0         1       prepared soups salads\n",
      "1         2           specialty cheeses\n",
      "2         3         energy granola bars\n",
      "3         4               instant foods\n",
      "4         5  marinades meat preparation\n",
      "5         6                       other\n",
      "6         7               packaged meat\n",
      "7         8             bakery desserts\n",
      "8         9                 pasta sauce\n",
      "9        10            kitchen supplies\n",
      "\n",
      "Shape of df_aisles is: (134, 2).\n",
      "\n"
     ]
    }
   ],
   "source": [
    "print df_aisles.head(n=10)\n",
    "print \"\\nShape of df_aisles is: {shape}.\\n\".format(shape = df_aisles.shape)"
   ]
  },
  {
   "cell_type": "markdown",
   "metadata": {},
   "source": [
    "## Head of df_products"
   ]
  },
  {
   "cell_type": "code",
   "execution_count": 7,
   "metadata": {
    "collapsed": false
   },
   "outputs": [
    {
     "name": "stdout",
     "output_type": "stream",
     "text": [
      "   product_id                                       product_name  aisle_id  \\\n",
      "0           1                         Chocolate Sandwich Cookies        61   \n",
      "1           2                                   All-Seasons Salt       104   \n",
      "2           3               Robust Golden Unsweetened Oolong Tea        94   \n",
      "3           4  Smart Ones Classic Favorites Mini Rigatoni Wit...        38   \n",
      "4           5                          Green Chile Anytime Sauce         5   \n",
      "5           6                                       Dry Nose Oil        11   \n",
      "6           7                     Pure Coconut Water With Orange        98   \n",
      "7           8                  Cut Russet Potatoes Steam N' Mash       116   \n",
      "8           9                  Light Strawberry Blueberry Yogurt       120   \n",
      "9          10     Sparkling Orange Juice & Prickly Pear Beverage       115   \n",
      "\n",
      "   department_id  \n",
      "0             19  \n",
      "1             13  \n",
      "2              7  \n",
      "3              1  \n",
      "4             13  \n",
      "5             11  \n",
      "6              7  \n",
      "7              1  \n",
      "8             16  \n",
      "9              7  \n",
      "\n",
      "Shape of df_products is: (49688, 4).\n",
      "\n"
     ]
    }
   ],
   "source": [
    "print df_products.head(n = 10)\n",
    "print \"\\nShape of df_products is: {shape}.\\n\".format(shape = df_products.shape)"
   ]
  },
  {
   "cell_type": "markdown",
   "metadata": {},
   "source": [
    "## Head of df_deparments"
   ]
  },
  {
   "cell_type": "code",
   "execution_count": 8,
   "metadata": {
    "collapsed": false
   },
   "outputs": [
    {
     "name": "stdout",
     "output_type": "stream",
     "text": [
      "   department_id       department\n",
      "0              1           frozen\n",
      "1              2            other\n",
      "2              3           bakery\n",
      "3              4          produce\n",
      "4              5          alcohol\n",
      "5              6    international\n",
      "6              7        beverages\n",
      "7              8             pets\n",
      "8              9  dry goods pasta\n",
      "9             10             bulk\n",
      "\n",
      "Shape of df_departments is: (21, 2).\n",
      "\n"
     ]
    }
   ],
   "source": [
    "print df_departments.head(n=10)\n",
    "print \"\\nShape of df_departments is: {shape}.\\n\".format(shape = df_departments.shape)"
   ]
  },
  {
   "cell_type": "markdown",
   "metadata": {},
   "source": [
    "## Head of df_order_products_train"
   ]
  },
  {
   "cell_type": "code",
   "execution_count": 9,
   "metadata": {
    "collapsed": false
   },
   "outputs": [
    {
     "name": "stdout",
     "output_type": "stream",
     "text": [
      "   order_id  product_id  add_to_cart_order  reordered\n",
      "0         1       49302                  1          1\n",
      "1         1       11109                  2          1\n",
      "2         1       10246                  3          0\n",
      "3         1       49683                  4          0\n",
      "4         1       43633                  5          1\n",
      "5         1       13176                  6          0\n",
      "6         1       47209                  7          0\n",
      "7         1       22035                  8          1\n",
      "8        36       39612                  1          0\n",
      "9        36       19660                  2          1\n",
      "\n",
      "Shape of df_order_products_train is: (1384617, 4).\n",
      "\n"
     ]
    }
   ],
   "source": [
    "print df_order_products_train.head(n=10)\n",
    "print \"\\nShape of df_order_products_train is: {shape}.\\n\".format(shape = df_order_products_train.shape)"
   ]
  },
  {
   "cell_type": "markdown",
   "metadata": {},
   "source": [
    "## Head of df_oder_products_prior"
   ]
  },
  {
   "cell_type": "code",
   "execution_count": 10,
   "metadata": {
    "collapsed": false
   },
   "outputs": [
    {
     "name": "stdout",
     "output_type": "stream",
     "text": [
      "   order_id  product_id  add_to_cart_order  reordered\n",
      "0         2       33120                  1          1\n",
      "1         2       28985                  2          1\n",
      "2         2        9327                  3          0\n",
      "3         2       45918                  4          1\n",
      "4         2       30035                  5          0\n",
      "5         2       17794                  6          1\n",
      "6         2       40141                  7          1\n",
      "7         2        1819                  8          1\n",
      "8         2       43668                  9          0\n",
      "9         3       33754                  1          1\n",
      "\n",
      "Shape of df_order_products_prior is: (32434489, 4).\n",
      "\n"
     ]
    }
   ],
   "source": [
    "print df_order_products_prior.head(n=10)\n",
    "print \"\\nShape of df_order_products_prior is: {shape}.\\n\".format(shape = df_order_products_prior.shape)"
   ]
  },
  {
   "cell_type": "markdown",
   "metadata": {},
   "source": [
    "## Head of df_orders"
   ]
  },
  {
   "cell_type": "code",
   "execution_count": 11,
   "metadata": {
    "collapsed": false
   },
   "outputs": [
    {
     "name": "stdout",
     "output_type": "stream",
     "text": [
      "   order_id  user_id eval_set  order_number  order_dow  order_hour_of_day  \\\n",
      "0   2539329        1    prior             1          2                  8   \n",
      "1   2398795        1    prior             2          3                  7   \n",
      "2    473747        1    prior             3          3                 12   \n",
      "3   2254736        1    prior             4          4                  7   \n",
      "4    431534        1    prior             5          4                 15   \n",
      "5   3367565        1    prior             6          2                  7   \n",
      "6    550135        1    prior             7          1                  9   \n",
      "7   3108588        1    prior             8          1                 14   \n",
      "8   2295261        1    prior             9          1                 16   \n",
      "9   2550362        1    prior            10          4                  8   \n",
      "\n",
      "   days_since_prior_order  \n",
      "0                     NaN  \n",
      "1                    15.0  \n",
      "2                    21.0  \n",
      "3                    29.0  \n",
      "4                    28.0  \n",
      "5                    19.0  \n",
      "6                    20.0  \n",
      "7                    14.0  \n",
      "8                     0.0  \n",
      "9                    30.0  \n",
      "\n",
      "Shape of df_orders is: (3421083, 7).\n",
      "\n"
     ]
    }
   ],
   "source": [
    "print df_orders.head(n=10)\n",
    "print \"\\nShape of df_orders is: {shape}.\\n\".format(shape = df_orders.shape)"
   ]
  },
  {
   "cell_type": "markdown",
   "metadata": {},
   "source": [
    "## Test vs. Train vs. Previous\n",
    "We would like to know the size of training and previous order information vs. the size of testing order information."
   ]
  },
  {
   "cell_type": "code",
   "execution_count": 12,
   "metadata": {
    "collapsed": false
   },
   "outputs": [
    {
     "name": "stdout",
     "output_type": "stream",
     "text": [
      "Test orders count: 75000\n",
      "\n",
      "Train orders count: 131209\n",
      "\n",
      "Previous orders count: 3214874\n",
      "\n"
     ]
    }
   ],
   "source": [
    "print \"Test orders count: {num_test}\\n\".format \\\n",
    "      (num_test = df_orders[df_orders.eval_set == 'test'].shape[0])\n",
    "    \n",
    "print \"Train orders count: {num_train}\\n\".format \\\n",
    "      (num_train = df_orders[df_orders.eval_set == 'train'].shape[0])\n",
    "    \n",
    "print \"Previous orders count: {num_previous}\\n\".format \\\n",
    "      (num_previous = df_orders[df_orders.eval_set == 'prior'].shape[0])"
   ]
  },
  {
   "cell_type": "markdown",
   "metadata": {},
   "source": [
    "## Finding 1. Weekly-based recurrent orders\n",
    "\n",
    "1. First, there are noticable peaks on the 'days_since_prior_order' feature of df_orders when it equals 7, 14, 21, 28. \n",
    "2. Second, these Weekly-based recurrent orders tend to have reordered products much more than other recurrent orders. \n"
   ]
  },
  {
   "cell_type": "code",
   "execution_count": 30,
   "metadata": {
    "collapsed": false
   },
   "outputs": [
    {
     "data": {
      "image/png": "[encoded data removed]",
      "text/plain": [
       "<matplotlib.figure.Figure at 0x121fb9dd0>"
      ]
     },
     "metadata": {},
     "output_type": "display_data"
    }
   ],
   "source": [
    "# histgram of days_since_prior_order\n",
    "plt.hist(df_orders.days_since_prior_order.dropna(), bins = 31)\n",
    "plt.xticks([0,7,14,21,28,30], ['0', '7', '14', '21', '28', '30'])\n",
    "plt.show()"
   ]
  },
  {
   "cell_type": "code",
   "execution_count": 49,
   "metadata": {
    "collapsed": false
   },
   "outputs": [
    {
     "name": "stdout",
     "output_type": "stream",
     "text": [
      "{4: 23985,\n",
      " 5: 19589,\n",
      " 6: 16164,\n",
      " 7: 13849,\n",
      " 8: 11699,\n",
      " 9: 10189,\n",
      " 10: 9031,\n",
      " 11: 7814,\n",
      " 12: 6951,\n",
      " 13: 6235,\n",
      " 14: 5612,\n",
      " 15: 5190,\n",
      " 16: 4592,\n",
      " 17: 4138,\n",
      " 18: 3835,\n",
      " 19: 3389,\n",
      " 20: 3199,\n",
      " 21: 2920,\n",
      " 22: 2705,\n",
      " 23: 2604,\n",
      " 24: 2287,\n",
      " 25: 2185,\n",
      " 26: 2059,\n",
      " 27: 1907,\n",
      " 28: 1778,\n",
      " 29: 1600,\n",
      " 30: 1493,\n",
      " 31: 1473,\n",
      " 32: 1385,\n",
      " 33: 1272,\n",
      " 34: 1185,\n",
      " 35: 1156,\n",
      " 36: 1014,\n",
      " 37: 1047,\n",
      " 38: 959,\n",
      " 39: 903,\n",
      " 40: 877,\n",
      " 41: 884,\n",
      " 42: 813,\n",
      " 43: 742,\n",
      " 44: 723,\n",
      " 45: 706,\n",
      " 46: 656,\n",
      " 47: 674,\n",
      " 48: 653,\n",
      " 49: 578,\n",
      " 50: 553,\n",
      " 51: 581,\n",
      " 52: 526,\n",
      " 53: 523,\n",
      " 54: 498,\n",
      " 55: 424,\n",
      " 56: 389,\n",
      " 57: 395,\n",
      " 58: 342,\n",
      " 59: 331,\n",
      " 60: 302,\n",
      " 61: 323,\n",
      " 62: 275,\n",
      " 63: 266,\n",
      " 64: 253,\n",
      " 65: 238,\n",
      " 66: 237,\n",
      " 67: 203,\n",
      " 68: 188,\n",
      " 69: 184,\n",
      " 70: 177,\n",
      " 71: 153,\n",
      " 72: 165,\n",
      " 73: 137,\n",
      " 74: 161,\n",
      " 75: 161,\n",
      " 76: 133,\n",
      " 77: 119,\n",
      " 78: 126,\n",
      " 79: 126,\n",
      " 80: 115,\n",
      " 81: 107,\n",
      " 82: 118,\n",
      " 83: 85,\n",
      " 84: 98,\n",
      " 85: 99,\n",
      " 86: 92,\n",
      " 87: 77,\n",
      " 88: 78,\n",
      " 89: 76,\n",
      " 90: 84,\n",
      " 91: 55,\n",
      " 92: 68,\n",
      " 93: 66,\n",
      " 94: 56,\n",
      " 95: 63,\n",
      " 96: 66,\n",
      " 97: 53,\n",
      " 98: 49,\n",
      " 99: 46,\n",
      " 100: 1373}\n"
     ]
    },
    {
     "data": {
      "image/png": "[encoded data removed]",
      "text/plain": [
       "<matplotlib.figure.Figure at 0x121f56410>"
      ]
     },
     "metadata": {},
     "output_type": "display_data"
    }
   ],
   "source": [
    "count_userid_occurence = {}\n",
    "for phrase, count in collections.Counter(df_orders.user_id).items():\n",
    "    try: \n",
    "        count_userid_occurence[count] += 1\n",
    "    except:\n",
    "        count_userid_occurence[count] = 0\n",
    "\n",
    "import pprint as pp\n",
    "pp.pprint(count_userid_occurence)\n",
    "\n",
    "plt.bar(count_userid_occurence.keys(), count_userid_occurence.values())\n",
    "plt.xlim([0,105])\n",
    "plt.show()"
   ]
  },
  {
   "cell_type": "code",
   "execution_count": 77,
   "metadata": {
    "collapsed": false
   },
   "outputs": [
    {
     "name": "stdout",
     "output_type": "stream",
     "text": [
      "Number of non-reordered products: 58802\n",
      "Number of reordered products: 120912\n",
      "Number of non-reordered products: 496991\n",
      "Number of reordered products: 707912\n"
     ]
    }
   ],
   "source": [
    "order_id_after_weeks = df_orders[(df_orders.eval_set == 'train') & \\\n",
    "                                 (df_orders.days_since_prior_order.isin([7,14,21,28])) \\\n",
    "                                ].order_id\n",
    "for item, counts in collections.Counter(\\\n",
    "                                     df_order_products_train[df_order_products_train.order_id.isin(order_id_after_weeks)]\\\n",
    "                                     .reordered\\\n",
    "                                     ).items():\n",
    "    if item:\n",
    "        print \"Number of reordered products: {num}\".format(num = counts)\n",
    "    else:\n",
    "        print \"Number of non-reordered products: {num}\".format(num = counts)\n",
    "        \n",
    "for item, counts in collections.Counter(\\\n",
    "                                     df_order_products_train[-(df_order_products_train.order_id.isin(order_id_after_weeks))]\\\n",
    "                                     .reordered\\\n",
    "                                     ).items():\n",
    "    if item:\n",
    "        print \"Number of reordered products: {num}\".format(num = counts)\n",
    "    else:\n",
    "        print \"Number of non-reordered products: {num}\".format(num = counts)"
   ]
  },
  {
   "cell_type": "code",
   "execution_count": 76,
   "metadata": {
    "collapsed": false
   },
   "outputs": [
    {
     "data": {
      "text/plain": [
       "0          True\n",
       "1          True\n",
       "2          True\n",
       "3          True\n",
       "4          True\n",
       "5          True\n",
       "6          True\n",
       "7          True\n",
       "8          True\n",
       "9          True\n",
       "10         True\n",
       "11         True\n",
       "12         True\n",
       "13         True\n",
       "14         True\n",
       "15         True\n",
       "16         True\n",
       "17         True\n",
       "18         True\n",
       "19         True\n",
       "20         True\n",
       "21         True\n",
       "22         True\n",
       "23         True\n",
       "24         True\n",
       "25         True\n",
       "26         True\n",
       "27         True\n",
       "28         True\n",
       "29         True\n",
       "           ... \n",
       "1384587    True\n",
       "1384588    True\n",
       "1384589    True\n",
       "1384590    True\n",
       "1384591    True\n",
       "1384592    True\n",
       "1384593    True\n",
       "1384594    True\n",
       "1384595    True\n",
       "1384596    True\n",
       "1384597    True\n",
       "1384598    True\n",
       "1384599    True\n",
       "1384600    True\n",
       "1384601    True\n",
       "1384602    True\n",
       "1384603    True\n",
       "1384604    True\n",
       "1384605    True\n",
       "1384606    True\n",
       "1384607    True\n",
       "1384608    True\n",
       "1384609    True\n",
       "1384610    True\n",
       "1384611    True\n",
       "1384612    True\n",
       "1384613    True\n",
       "1384614    True\n",
       "1384615    True\n",
       "1384616    True\n",
       "Name: order_id, dtype: bool"
      ]
     },
     "execution_count": 76,
     "metadata": {},
     "output_type": "execute_result"
    }
   ],
   "source": [
    "-(df_order_products_train.order_id.isin(order_id_after_weeks))"
   ]
  },
  {
   "cell_type": "code",
   "execution_count": null,
   "metadata": {
    "collapsed": true
   },
   "outputs": [],
   "source": []
  }
 ],
 "metadata": {
  "anaconda-cloud": {},
  "kernelspec": {
   "display_name": "Python [Root]",
   "language": "python",
   "name": "Python [Root]"
  },
  "language_info": {
   "codemirror_mode": {
    "name": "ipython",
    "version": 2
   },
   "file_extension": ".py",
   "mimetype": "text/x-python",
   "name": "python",
   "nbconvert_exporter": "python",
   "pygments_lexer": "ipython2",
   "version": "2.7.12"
  }
 },
 "nbformat": 4,
 "nbformat_minor": 0
}
