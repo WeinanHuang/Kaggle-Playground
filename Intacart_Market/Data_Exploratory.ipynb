{
 "cells": [
  {
   "cell_type": "code",
   "execution_count": 2,
   "metadata": {
    "collapsed": false
   },
   "outputs": [],
   "source": [
    "import numpy as np\n",
    "import pandas as pd\n",
    "import matplotlib.pyplot as plt\n",
    "import seaborn as sns\n",
    "%matplotlib inline"
   ]
  },
  {
   "cell_type": "code",
   "execution_count": 10,
   "metadata": {
    "collapsed": false
   },
   "outputs": [],
   "source": [
    "wd = \"~/Desktop/kaggle/Intacart\"\n",
    "df_order_products_train = pd.read_csv(\"{wd}/Data/order_products__train.csv\".format(wd = wd))\n",
    "df_order_products_prior = pd.read_csv(\"{wd}/Data/order_products__prior.csv\".format(wd = wd))\n",
    "df_orders = pd.read_csv(\"{wd}/Data/orders.csv\".format(wd = wd))\n",
    "df_products = pd.read_csv(\"{wd}/Data/products.csv\".format(wd = wd))\n",
    "df_aisles = pd.read_csv(\"{wd}/Data/aisles.csv\".format(wd = wd))\n",
    "df_departments = pd.read_csv(\"{wd}/Data/departments.csv\".format(wd = wd))"
   ]
  },
  {
   "cell_type": "markdown",
   "metadata": {},
   "source": [
    "## Head of df_aisles"
   ]
  },
  {
   "cell_type": "code",
   "execution_count": 18,
   "metadata": {
    "collapsed": true
   },
   "outputs": [
    {
     "name": "stdout",
     "output_type": "stream",
     "text": [
      "   aisle_id                       aisle\n",
      "0         1       prepared soups salads\n",
      "1         2           specialty cheeses\n",
      "2         3         energy granola bars\n",
      "3         4               instant foods\n",
      "4         5  marinades meat preparation\n",
      "5         6                       other\n",
      "6         7               packaged meat\n",
      "7         8             bakery desserts\n",
      "8         9                 pasta sauce\n",
      "9        10            kitchen supplies\n",
      "\n",
      "Shape of df_aisles is: (134, 2).\n",
      "\n"
     ]
    }
   ],
   "source": [
    "print df_aisles.head(n=10)\n",
    "print \"\\nShape of df_aisles is: {shape}.\\n\".format(shape = df_aisles.shape)"
   ]
  },
  {
   "cell_type": "markdown",
   "metadata": {},
   "source": [
    "## Head of df_products"
   ]
  },
  {
   "cell_type": "code",
   "execution_count": 22,
   "metadata": {
    "collapsed": true
   },
   "outputs": [
    {
     "name": "stdout",
     "output_type": "stream",
     "text": [
      "   product_id                                       product_name  aisle_id  \\\n",
      "0           1                         Chocolate Sandwich Cookies        61   \n",
      "1           2                                   All-Seasons Salt       104   \n",
      "2           3               Robust Golden Unsweetened Oolong Tea        94   \n",
      "3           4  Smart Ones Classic Favorites Mini Rigatoni Wit...        38   \n",
      "4           5                          Green Chile Anytime Sauce         5   \n",
      "5           6                                       Dry Nose Oil        11   \n",
      "6           7                     Pure Coconut Water With Orange        98   \n",
      "7           8                  Cut Russet Potatoes Steam N' Mash       116   \n",
      "8           9                  Light Strawberry Blueberry Yogurt       120   \n",
      "9          10     Sparkling Orange Juice & Prickly Pear Beverage       115   \n",
      "\n",
      "   department_id  \n",
      "0             19  \n",
      "1             13  \n",
      "2              7  \n",
      "3              1  \n",
      "4             13  \n",
      "5             11  \n",
      "6              7  \n",
      "7              1  \n",
      "8             16  \n",
      "9              7  \n",
      "\n",
      "Shape of df_products is: (49688, 4).\n",
      "\n"
     ]
    }
   ],
   "source": [
    "print df_products.head(n = 10)\n",
    "print \"\\nShape of df_products is: {shape}.\\n\".format(shape = df_products.shape)"
   ]
  },
  {
   "cell_type": "markdown",
   "metadata": {},
   "source": [
    "## Head of df_deparments"
   ]
  },
  {
   "cell_type": "code",
   "execution_count": 23,
   "metadata": {
    "collapsed": true
   },
   "outputs": [
    {
     "name": "stdout",
     "output_type": "stream",
     "text": [
      "   department_id       department\n",
      "0              1           frozen\n",
      "1              2            other\n",
      "2              3           bakery\n",
      "3              4          produce\n",
      "4              5          alcohol\n",
      "5              6    international\n",
      "6              7        beverages\n",
      "7              8             pets\n",
      "8              9  dry goods pasta\n",
      "9             10             bulk\n",
      "\n",
      "Shape of df_departments is: (21, 2).\n",
      "\n"
     ]
    }
   ],
   "source": [
    "print df_departments.head(n=10)\n",
    "print \"\\nShape of df_departments is: {shape}.\\n\".format(shape = df_departments.shape)"
   ]
  },
  {
   "cell_type": "markdown",
   "metadata": {},
   "source": [
    "## Head of df_order_products_train"
   ]
  },
  {
   "cell_type": "code",
   "execution_count": 25,
   "metadata": {
    "collapsed": false
   },
   "outputs": [
    {
     "name": "stdout",
     "output_type": "stream",
     "text": [
      "   order_id  product_id  add_to_cart_order  reordered\n",
      "0         1       49302                  1          1\n",
      "1         1       11109                  2          1\n",
      "2         1       10246                  3          0\n",
      "3         1       49683                  4          0\n",
      "4         1       43633                  5          1\n",
      "5         1       13176                  6          0\n",
      "6         1       47209                  7          0\n",
      "7         1       22035                  8          1\n",
      "8        36       39612                  1          0\n",
      "9        36       19660                  2          1\n",
      "\n",
      "Shape of df_order_products_train is: (1384617, 4).\n",
      "\n"
     ]
    }
   ],
   "source": [
    "print df_order_products_train.head(n=10)\n",
    "print \"\\nShape of df_order_products_train is: {shape}.\\n\".format(shape = df_order_products_train.shape)"
   ]
  },
  {
   "cell_type": "markdown",
   "metadata": {},
   "source": [
    "## Head of df_oder_products_prior"
   ]
  },
  {
   "cell_type": "code",
   "execution_count": 26,
   "metadata": {
    "collapsed": false
   },
   "outputs": [
    {
     "name": "stdout",
     "output_type": "stream",
     "text": [
      "   order_id  product_id  add_to_cart_order  reordered\n",
      "0         2       33120                  1          1\n",
      "1         2       28985                  2          1\n",
      "2         2        9327                  3          0\n",
      "3         2       45918                  4          1\n",
      "4         2       30035                  5          0\n",
      "5         2       17794                  6          1\n",
      "6         2       40141                  7          1\n",
      "7         2        1819                  8          1\n",
      "8         2       43668                  9          0\n",
      "9         3       33754                  1          1\n",
      "\n",
      "Shape of df_order_products_prior is: (32434489, 4).\n",
      "\n"
     ]
    }
   ],
   "source": [
    "print df_order_products_prior.head(n=10)\n",
    "print \"\\nShape of df_order_products_prior is: {shape}.\\n\".format(shape = df_order_products_prior.shape)"
   ]
  },
  {
   "cell_type": "markdown",
   "metadata": {},
   "source": [
    "## Head of df_orders"
   ]
  },
  {
   "cell_type": "code",
   "execution_count": 28,
   "metadata": {
    "collapsed": false
   },
   "outputs": [
    {
     "name": "stdout",
     "output_type": "stream",
     "text": [
      "   order_id  user_id eval_set  order_number  order_dow  order_hour_of_day  \\\n",
      "0   2539329        1    prior             1          2                  8   \n",
      "1   2398795        1    prior             2          3                  7   \n",
      "2    473747        1    prior             3          3                 12   \n",
      "3   2254736        1    prior             4          4                  7   \n",
      "4    431534        1    prior             5          4                 15   \n",
      "5   3367565        1    prior             6          2                  7   \n",
      "6    550135        1    prior             7          1                  9   \n",
      "7   3108588        1    prior             8          1                 14   \n",
      "8   2295261        1    prior             9          1                 16   \n",
      "9   2550362        1    prior            10          4                  8   \n",
      "\n",
      "   days_since_prior_order  \n",
      "0                     NaN  \n",
      "1                    15.0  \n",
      "2                    21.0  \n",
      "3                    29.0  \n",
      "4                    28.0  \n",
      "5                    19.0  \n",
      "6                    20.0  \n",
      "7                    14.0  \n",
      "8                     0.0  \n",
      "9                    30.0  \n",
      "\n",
      "Shape of df_orders is: (3421083, 7).\n",
      "\n"
     ]
    }
   ],
   "source": [
    "print df_orders.head(n=10)\n",
    "print \"\\nShape of df_orders is: {shape}.\\n\".format(shape = df_orders.shape)"
   ]
  },
  {
   "cell_type": "code",
   "execution_count": 42,
   "metadata": {
    "collapsed": false
   },
   "outputs": [
    {
     "name": "stdout",
     "output_type": "stream",
     "text": [
      "Test orders count: 75000\n",
      "\n",
      "Train orders count: 131209\n",
      "\n",
      "Previous orders count: 3214874\n",
      "\n"
     ]
    }
   ],
   "source": [
    "print \"Test orders count: {num_test}\\n\".format \\\n",
    "      (num_test = df_orders[df_orders.eval_set == 'test'].shape[0])\n",
    "    \n",
    "print \"Train orders count: {num_train}\\n\".format \\\n",
    "      (num_train = df_orders[df_orders.eval_set == 'train'].shape[0])\n",
    "    \n",
    "print \"Previous orders count: {num_previous}\\n\".format \\\n",
    "      (num_previous = df_orders[df_orders.eval_set == 'prior'].shape[0])"
   ]
  },
  {
   "cell_type": "code",
   "execution_count": 48,
   "metadata": {
    "collapsed": false
   },
   "outputs": [
    {
     "ename": "SyntaxError",
     "evalue": "invalid syntax (<ipython-input-48-4d38bb78c199>, line 1)",
     "output_type": "error",
     "traceback": [
      "\u001b[0;36m  File \u001b[0;32m\"<ipython-input-48-4d38bb78c199>\"\u001b[0;36m, line \u001b[0;32m1\u001b[0m\n\u001b[0;31m    plt.hist(         df_orders[(df_orders.eval_set == 'train') && (df_orders.days_since_prior_order in [7,14,28])]         .days_since_prior_order, bins=30)\u001b[0m\n\u001b[0m                                                                 ^\u001b[0m\n\u001b[0;31mSyntaxError\u001b[0m\u001b[0;31m:\u001b[0m invalid syntax\n"
     ]
    }
   ],
   "source": [
    "plt.hist(\\\n",
    "         df_orders[(df_orders.eval_set == 'train') & (df_orders.days_since_prior_order in [7,14,28])]\\\n",
    "         .days_since_prior_order, bins=30)"
   ]
  },
  {
   "cell_type": "code",
   "execution_count": null,
   "metadata": {
    "collapsed": true
   },
   "outputs": [],
   "source": []
  }
 ],
 "metadata": {
  "anaconda-cloud": {},
  "kernelspec": {
   "display_name": "Python [Root]",
   "language": "python",
   "name": "Python [Root]"
  },
  "language_info": {
   "codemirror_mode": {
    "name": "ipython",
    "version": 2
   },
   "file_extension": ".py",
   "mimetype": "text/x-python",
   "name": "python",
   "nbconvert_exporter": "python",
   "pygments_lexer": "ipython2",
   "version": "2.7.12"
  }
 },
 "nbformat": 4,
 "nbformat_minor": 0
}
