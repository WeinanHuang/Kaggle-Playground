{
 "cells": [
  {
   "cell_type": "code",
   "execution_count": 1,
   "metadata": {
    "collapsed": true
   },
   "outputs": [],
   "source": [
    "import pandas as pd"
   ]
  },
  {
   "cell_type": "code",
   "execution_count": 2,
   "metadata": {
    "collapsed": true
   },
   "outputs": [],
   "source": [
    "DATA_PATH = '../data/'\n",
    "SUBMISSION_PATH = '../sub/'"
   ]
  },
  {
   "cell_type": "code",
   "execution_count": 3,
   "metadata": {},
   "outputs": [
    {
     "data": {
      "text/html": [
       "<div>\n",
       "<style>\n",
       "    .dataframe thead tr:only-child th {\n",
       "        text-align: right;\n",
       "    }\n",
       "\n",
       "    .dataframe thead th {\n",
       "        text-align: left;\n",
       "    }\n",
       "\n",
       "    .dataframe tbody tr th {\n",
       "        vertical-align: top;\n",
       "    }\n",
       "</style>\n",
       "<table border=\"1\" class=\"dataframe\">\n",
       "  <thead>\n",
       "    <tr style=\"text-align: right;\">\n",
       "      <th></th>\n",
       "      <th>id</th>\n",
       "      <th>toxic</th>\n",
       "      <th>severe_toxic</th>\n",
       "      <th>obscene</th>\n",
       "      <th>threat</th>\n",
       "      <th>insult</th>\n",
       "      <th>identity_hate</th>\n",
       "    </tr>\n",
       "  </thead>\n",
       "  <tbody>\n",
       "    <tr>\n",
       "      <th>0</th>\n",
       "      <td>00001cee341fdb12</td>\n",
       "      <td>0.993682</td>\n",
       "      <td>0.184694</td>\n",
       "      <td>0.939890</td>\n",
       "      <td>0.024813</td>\n",
       "      <td>0.893876</td>\n",
       "      <td>0.137566</td>\n",
       "    </tr>\n",
       "    <tr>\n",
       "      <th>1</th>\n",
       "      <td>0000247867823ef7</td>\n",
       "      <td>0.002398</td>\n",
       "      <td>0.000306</td>\n",
       "      <td>0.001275</td>\n",
       "      <td>0.000056</td>\n",
       "      <td>0.001231</td>\n",
       "      <td>0.000210</td>\n",
       "    </tr>\n",
       "    <tr>\n",
       "      <th>2</th>\n",
       "      <td>00013b17ad220c46</td>\n",
       "      <td>0.006690</td>\n",
       "      <td>0.000436</td>\n",
       "      <td>0.002971</td>\n",
       "      <td>0.000058</td>\n",
       "      <td>0.001724</td>\n",
       "      <td>0.000178</td>\n",
       "    </tr>\n",
       "    <tr>\n",
       "      <th>3</th>\n",
       "      <td>00017563c3f7919a</td>\n",
       "      <td>0.001802</td>\n",
       "      <td>0.000114</td>\n",
       "      <td>0.000671</td>\n",
       "      <td>0.000091</td>\n",
       "      <td>0.000677</td>\n",
       "      <td>0.000164</td>\n",
       "    </tr>\n",
       "    <tr>\n",
       "      <th>4</th>\n",
       "      <td>00017695ad8997eb</td>\n",
       "      <td>0.007971</td>\n",
       "      <td>0.000251</td>\n",
       "      <td>0.001366</td>\n",
       "      <td>0.000099</td>\n",
       "      <td>0.001646</td>\n",
       "      <td>0.000267</td>\n",
       "    </tr>\n",
       "  </tbody>\n",
       "</table>\n",
       "</div>"
      ],
      "text/plain": [
       "                 id     toxic  severe_toxic   obscene    threat    insult  \\\n",
       "0  00001cee341fdb12  0.993682      0.184694  0.939890  0.024813  0.893876   \n",
       "1  0000247867823ef7  0.002398      0.000306  0.001275  0.000056  0.001231   \n",
       "2  00013b17ad220c46  0.006690      0.000436  0.002971  0.000058  0.001724   \n",
       "3  00017563c3f7919a  0.001802      0.000114  0.000671  0.000091  0.000677   \n",
       "4  00017695ad8997eb  0.007971      0.000251  0.001366  0.000099  0.001646   \n",
       "\n",
       "   identity_hate  \n",
       "0       0.137566  \n",
       "1       0.000210  \n",
       "2       0.000178  \n",
       "3       0.000164  \n",
       "4       0.000267  "
      ]
     },
     "execution_count": 3,
     "metadata": {},
     "output_type": "execute_result"
    }
   ],
   "source": [
    "nb_svm_sub = pd.read_csv(SUBMISSION_PATH+\"nb_svm.csv\",header=0)\n",
    "LSTM_sub = pd.read_csv(SUBMISSION_PATH+\"LSTM_sub.csv\",header=0)\n",
    "comb_sub = pd.concat([nb_svm_sub.iloc[:,0], nb_svm_sub.iloc[:,1:].apply(lambda x: x*0.9772) + LSTM_sub.iloc[:,1:].apply(lambda x: x*0.9726)], axis=1)\n",
    "comb_sub.iloc[:,1:] = comb_sub.iloc[:,1:].apply(lambda x: x/(0.9772+0.9726))\n",
    "comb_sub.to_csv(SUBMISSION_PATH+\"comb_sub.csv\", index=False, header = True)\n",
    "comb_sub.head()"
   ]
  },
  {
   "cell_type": "code",
   "execution_count": null,
   "metadata": {
    "collapsed": true
   },
   "outputs": [],
   "source": []
  }
 ],
 "metadata": {
  "kernelspec": {
   "display_name": "Python 3",
   "language": "python",
   "name": "python3"
  },
  "language_info": {
   "codemirror_mode": {
    "name": "ipython",
    "version": 3
   },
   "file_extension": ".py",
   "mimetype": "text/x-python",
   "name": "python",
   "nbconvert_exporter": "python",
   "pygments_lexer": "ipython3",
   "version": "3.6.2"
  }
 },
 "nbformat": 4,
 "nbformat_minor": 2
}
